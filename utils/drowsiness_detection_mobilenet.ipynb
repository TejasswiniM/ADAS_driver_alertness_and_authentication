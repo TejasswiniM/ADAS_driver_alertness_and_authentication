{
  "nbformat": 4,
  "nbformat_minor": 0,
  "metadata": {
    "colab": {
      "provenance": []
    },
    "kernelspec": {
      "name": "python3",
      "display_name": "Python 3"
    },
    "language_info": {
      "name": "python"
    }
  },
  "cells": [
    {
      "cell_type": "code",
      "execution_count": null,
      "metadata": {
        "id": "WZkTp7N8g0tx"
      },
      "outputs": [],
      "source": [
        "# Install necessary packages\n",
        "!pip install tensorflow scikit-learn onnx tf2onnx\n",
        "\n",
        "# Import libraries\n",
        "import os\n",
        "import numpy as np\n",
        "import tensorflow as tf\n",
        "from tensorflow.keras.preprocessing.image import ImageDataGenerator\n",
        "from tensorflow.keras.applications import MobileNetV2\n",
        "from tensorflow.keras import layers, models\n",
        "from sklearn.metrics import confusion_matrix, classification_report\n",
        "import matplotlib.pyplot as plt\n",
        "import onnx\n",
        "import tf2onnx\n",
        "from tensorflow import keras\n",
        "\n",
        "# Set random seed for reproducibility\n",
        "np.random.seed(42)\n",
        "tf.random.set_seed(42)"
      ]
    },
    {
      "cell_type": "code",
      "source": [
        "from google.colab import drive\n",
        "drive.mount('/content/drive')"
      ],
      "metadata": {
        "colab": {
          "base_uri": "https://localhost:8080/"
        },
        "id": "9mXNPzTqk8sq",
        "outputId": "9dba03f5-34cb-4119-8899-6d38de9530ff"
      },
      "execution_count": 2,
      "outputs": [
        {
          "output_type": "stream",
          "name": "stdout",
          "text": [
            "Drive already mounted at /content/drive; to attempt to forcibly remount, call drive.mount(\"/content/drive\", force_remount=True).\n"
          ]
        }
      ]
    },
    {
      "cell_type": "code",
      "source": [
        "# Define paths\n",
        "dataset_dir = \"/content/drive/MyDrive/drowsiness_detection/dataset_25\"\n",
        "model_save_path = \"/content/drive/MyDrive/notebook_results/drowsiness_detection/drowsiness_detection_model.h5\"\n",
        "onnx_model_save_path = \"/content/drive/MyDrive/notebook_results/drowsiness_detection/drowsiness_detection_model.onnx\""
      ],
      "metadata": {
        "id": "vluvAwLHg5tJ"
      },
      "execution_count": 2,
      "outputs": []
    },
    {
      "cell_type": "code",
      "source": [
        "# Create data generator\n",
        "datagen = ImageDataGenerator(rescale=1./255,\n",
        "                             shear_range=0.2,\n",
        "                             zoom_range=0.2,\n",
        "                             horizontal_flip=True,\n",
        "                             validation_split=0.2)"
      ],
      "metadata": {
        "id": "xTttYW1zjKgY"
      },
      "execution_count": 3,
      "outputs": []
    },
    {
      "cell_type": "code",
      "source": [
        "# Create data generators\n",
        "batch_size = 64\n",
        "\n",
        "data_generator = datagen.flow_from_directory(dataset_dir,\n",
        "                                            target_size=(224, 224),\n",
        "                                            batch_size=batch_size,\n",
        "                                            class_mode='binary',\n",
        "                                            subset='training')\n",
        "\n",
        "validation_generator = datagen.flow_from_directory(dataset_dir,\n",
        "                                                   target_size=(224, 224),\n",
        "                                                   batch_size=batch_size,\n",
        "                                                   class_mode='binary',\n",
        "                                                   subset='validation')"
      ],
      "metadata": {
        "colab": {
          "base_uri": "https://localhost:8080/"
        },
        "id": "56tBldCpg5nk",
        "outputId": "2beb3857-a617-40b6-80db-a782bdf007eb"
      },
      "execution_count": 4,
      "outputs": [
        {
          "output_type": "stream",
          "name": "stdout",
          "text": [
            "Found 16981 images belonging to 2 classes.\n",
            "Found 4244 images belonging to 2 classes.\n"
          ]
        }
      ]
    },
    {
      "cell_type": "code",
      "source": [
        "# Create MobileNetV2 base model\n",
        "base_model = MobileNetV2(weights='imagenet',\n",
        "                         include_top=False,\n",
        "                         input_shape=(224, 224, 3))"
      ],
      "metadata": {
        "colab": {
          "base_uri": "https://localhost:8080/"
        },
        "id": "l-M_6cwJg5k2",
        "outputId": "ab9acf36-2ee0-4308-b4c9-8d4b160ed24e"
      },
      "execution_count": 5,
      "outputs": [
        {
          "output_type": "stream",
          "name": "stdout",
          "text": [
            "Downloading data from https://storage.googleapis.com/tensorflow/keras-applications/mobilenet_v2/mobilenet_v2_weights_tf_dim_ordering_tf_kernels_1.0_224_no_top.h5\n",
            "9406464/9406464 [==============================] - 0s 0us/step\n"
          ]
        }
      ]
    },
    {
      "cell_type": "code",
      "source": [
        "# Freeze the layers of the base model\n",
        "for layer in base_model.layers:\n",
        "    layer.trainable = False"
      ],
      "metadata": {
        "id": "_WQXxFNig5iK"
      },
      "execution_count": 6,
      "outputs": []
    },
    {
      "cell_type": "code",
      "source": [
        "# Create custom model\n",
        "model = models.Sequential()\n",
        "model.add(base_model)\n",
        "model.add(layers.GlobalAveragePooling2D())\n",
        "model.add(layers.Dense(1, activation='sigmoid'))"
      ],
      "metadata": {
        "id": "IzuvEGdGg5fW"
      },
      "execution_count": 7,
      "outputs": []
    },
    {
      "cell_type": "code",
      "source": [
        "# Compile the model\n",
        "model.compile(optimizer='adam',\n",
        "              loss='binary_crossentropy',\n",
        "              metrics=['accuracy'])"
      ],
      "metadata": {
        "id": "jVMvYegsg5cg"
      },
      "execution_count": 8,
      "outputs": []
    },
    {
      "cell_type": "code",
      "source": [
        "# Callbacks\n",
        "callbacks = [\n",
        "    tf.keras.callbacks.ModelCheckpoint(model_save_path, save_best_only=True),\n",
        "    tf.keras.callbacks.EarlyStopping(monitor='val_loss', patience=5, restore_best_weights=True),\n",
        "    tf.keras.callbacks.CSVLogger('training_log.csv')\n",
        "]"
      ],
      "metadata": {
        "id": "E7TCaVy0g5Zo"
      },
      "execution_count": 9,
      "outputs": []
    },
    {
      "cell_type": "code",
      "source": [
        "# Training the model\n",
        "epochs = 20\n",
        "\n",
        "history = model.fit(data_generator,\n",
        "                    steps_per_epoch=data_generator.samples // batch_size,\n",
        "                    validation_data=validation_generator,\n",
        "                    validation_steps=validation_generator.samples // batch_size,\n",
        "                    epochs=epochs,\n",
        "                    callbacks=callbacks)"
      ],
      "metadata": {
        "colab": {
          "base_uri": "https://localhost:8080/"
        },
        "id": "n-DCvyvyg5W6",
        "outputId": "feaff335-b270-4db3-dc29-8918652c4dbd"
      },
      "execution_count": 10,
      "outputs": [
        {
          "output_type": "stream",
          "name": "stdout",
          "text": [
            "Epoch 1/20\n",
            "265/265 [==============================] - ETA: 0s - loss: 0.2813 - accuracy: 0.8856 "
          ]
        },
        {
          "output_type": "stream",
          "name": "stderr",
          "text": [
            "/usr/local/lib/python3.10/dist-packages/keras/src/engine/training.py:3103: UserWarning: You are saving your model as an HDF5 file via `model.save()`. This file format is considered legacy. We recommend using instead the native Keras format, e.g. `model.save('my_model.keras')`.\n",
            "  saving_api.save_model(\n"
          ]
        },
        {
          "output_type": "stream",
          "name": "stdout",
          "text": [
            "\b\b\b\b\b\b\b\b\b\b\b\b\b\b\b\b\b\b\b\b\b\b\b\b\b\b\b\b\b\b\b\b\b\b\b\b\b\b\b\b\b\b\b\b\b\b\b\b\b\b\b\b\b\b\b\b\b\b\b\b\b\b\b\b\b\b\b\b\b\b\b\b\b\b\b\b\b\b\b\b\b\b\b\b\r265/265 [==============================] - 7410s 28s/step - loss: 0.2813 - accuracy: 0.8856 - val_loss: 0.3409 - val_accuracy: 0.8591\n",
            "Epoch 2/20\n",
            "265/265 [==============================] - 372s 1s/step - loss: 0.1803 - accuracy: 0.9341 - val_loss: 0.3030 - val_accuracy: 0.8741\n",
            "Epoch 3/20\n",
            "265/265 [==============================] - 335s 1s/step - loss: 0.1569 - accuracy: 0.9436 - val_loss: 0.2840 - val_accuracy: 0.8849\n",
            "Epoch 4/20\n",
            "265/265 [==============================] - 349s 1s/step - loss: 0.1441 - accuracy: 0.9488 - val_loss: 0.3079 - val_accuracy: 0.8755\n",
            "Epoch 5/20\n",
            "265/265 [==============================] - 350s 1s/step - loss: 0.1332 - accuracy: 0.9525 - val_loss: 0.2851 - val_accuracy: 0.8835\n",
            "Epoch 6/20\n",
            "265/265 [==============================] - 336s 1s/step - loss: 0.1300 - accuracy: 0.9550 - val_loss: 0.3002 - val_accuracy: 0.8790\n",
            "Epoch 7/20\n",
            "265/265 [==============================] - 336s 1s/step - loss: 0.1235 - accuracy: 0.9576 - val_loss: 0.2827 - val_accuracy: 0.8838\n",
            "Epoch 8/20\n",
            "265/265 [==============================] - 349s 1s/step - loss: 0.1192 - accuracy: 0.9573 - val_loss: 0.3046 - val_accuracy: 0.8804\n",
            "Epoch 9/20\n",
            "265/265 [==============================] - 359s 1s/step - loss: 0.1143 - accuracy: 0.9603 - val_loss: 0.2912 - val_accuracy: 0.8849\n",
            "Epoch 10/20\n",
            "265/265 [==============================] - 343s 1s/step - loss: 0.1145 - accuracy: 0.9593 - val_loss: 0.3147 - val_accuracy: 0.8833\n",
            "Epoch 11/20\n",
            "265/265 [==============================] - 350s 1s/step - loss: 0.1082 - accuracy: 0.9625 - val_loss: 0.2953 - val_accuracy: 0.8885\n",
            "Epoch 12/20\n",
            "265/265 [==============================] - 333s 1s/step - loss: 0.1096 - accuracy: 0.9608 - val_loss: 0.2965 - val_accuracy: 0.8866\n"
          ]
        }
      ]
    },
    {
      "cell_type": "code",
      "source": [
        "# Load the TensorFlow model from the .h5 file\n",
        "#model_path = '/content/drive/MyDrive/notebook_results/drowsiness_detection.h5'\n",
        "model = tf.keras.models.load_model(model_save_path)\n",
        "\n",
        "# Convert the TensorFlow model to ONNX\n",
        "onnx_model, _ = tf2onnx.convert.from_keras(model)\n",
        "\n",
        "# Save the ONNX model to a file\n",
        "#onnx_file_path = '/content/drive/MyDrive/notebook_results/drowsiness_detection.onnx'\n",
        "with open(onnx_model_save_path, 'wb') as f:\n",
        "    f.write(onnx_model.SerializeToString())\n",
        "\n",
        "print(f\"ONNX model successfully saved at: {onnx_model_save_path}\")"
      ],
      "metadata": {
        "colab": {
          "base_uri": "https://localhost:8080/"
        },
        "id": "pQoNihi4EkfP",
        "outputId": "b01a35c0-71cf-4a08-f195-b090ddffd3e8"
      },
      "execution_count": 11,
      "outputs": [
        {
          "output_type": "stream",
          "name": "stdout",
          "text": [
            "ONNX model successfully saved at: /content/drive/MyDrive/notebook_results/drowsiness_detection/drowsiness_detection_model.onnx\n"
          ]
        }
      ]
    },
    {
      "cell_type": "code",
      "source": [
        "# Evaluate the model\n",
        "predictions = model.predict(validation_generator)\n",
        "y_true = validation_generator.classes\n",
        "y_pred = np.round(predictions).reshape((1, -1))[0]"
      ],
      "metadata": {
        "id": "HfcOFWhOg5RR",
        "colab": {
          "base_uri": "https://localhost:8080/"
        },
        "outputId": "dfa508cd-447b-4c58-c6c1-2c6a7ebbc15b"
      },
      "execution_count": 12,
      "outputs": [
        {
          "output_type": "stream",
          "name": "stdout",
          "text": [
            "67/67 [==============================] - 68s 1s/step\n"
          ]
        }
      ]
    },
    {
      "cell_type": "code",
      "source": [
        "# Confusion Matrix\n",
        "conf_matrix = confusion_matrix(y_true, y_pred)"
      ],
      "metadata": {
        "id": "JT23-VUGg5OW"
      },
      "execution_count": 13,
      "outputs": []
    },
    {
      "cell_type": "code",
      "source": [
        "# Classification Report\n",
        "class_report = classification_report(y_true, y_pred, target_names=['Closed_Eyes', 'Opened_Eyes'])"
      ],
      "metadata": {
        "id": "a1f1G72-g5Lt"
      },
      "execution_count": 14,
      "outputs": []
    },
    {
      "cell_type": "code",
      "source": [
        "# Plotting the training history\n",
        "plt.figure(figsize=(12, 6))\n",
        "\n",
        "# Plot training & validation accuracy values\n",
        "plt.subplot(1, 2, 1)\n",
        "plt.plot(history.history['accuracy'])\n",
        "plt.plot(history.history['val_accuracy'])\n",
        "plt.title('Model accuracy')\n",
        "plt.xlabel('Epoch')\n",
        "plt.ylabel('Accuracy')\n",
        "plt.legend(['Train', 'Validation'], loc='upper left')\n",
        "\n",
        "# Plot training & validation loss values\n",
        "plt.subplot(1, 2, 2)\n",
        "plt.plot(history.history['loss'])\n",
        "plt.plot(history.history['val_loss'])\n",
        "plt.title('Model loss')\n",
        "plt.xlabel('Epoch')\n",
        "plt.ylabel('Loss')\n",
        "plt.legend(['Train', 'Validation'], loc='upper left')\n",
        "\n",
        "plt.tight_layout()\n",
        "plt.show()"
      ],
      "metadata": {
        "id": "eC7QkSxOg5I6",
        "colab": {
          "base_uri": "https://localhost:8080/",
          "height": 589
        },
        "outputId": "1da590ab-d666-49c1-dd09-4c097b708740"
      },
      "execution_count": 15,
      "outputs": [
        {
          "output_type": "display_data",
          "data": {
            "text/plain": [
              "<Figure size 1200x600 with 2 Axes>"
            ],
            "image/png": "[encoded data removed]"
          },
          "metadata": {}
        }
      ]
    },
    {
      "cell_type": "code",
      "source": [
        "# Print evaluation results\n",
        "print(\"Confusion Matrix:\")\n",
        "print(conf_matrix)\n",
        "\n",
        "print(\"\\nClassification Report:\")\n",
        "print(class_report)"
      ],
      "metadata": {
        "id": "9z8asPCBg5GO",
        "colab": {
          "base_uri": "https://localhost:8080/"
        },
        "outputId": "3fbabac5-2529-4879-b6a4-52b9552d71fb"
      },
      "execution_count": 16,
      "outputs": [
        {
          "output_type": "stream",
          "name": "stdout",
          "text": [
            "Confusion Matrix:\n",
            "[[1201  896]\n",
            " [1213  934]]\n",
            "\n",
            "Classification Report:\n",
            "              precision    recall  f1-score   support\n",
            "\n",
            " Closed_Eyes       0.50      0.57      0.53      2097\n",
            " Opened_Eyes       0.51      0.44      0.47      2147\n",
            "\n",
            "    accuracy                           0.50      4244\n",
            "   macro avg       0.50      0.50      0.50      4244\n",
            "weighted avg       0.50      0.50      0.50      4244\n",
            "\n"
          ]
        }
      ]
    }
  ]
}